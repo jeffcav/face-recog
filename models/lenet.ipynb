{
 "cells": [
  {
   "cell_type": "code",
   "execution_count": 64,
   "metadata": {
    "pycharm": {
     "name": "#%%\n"
    }
   },
   "outputs": [],
   "source": [
    "import matplotlib.pyplot as plt\n",
    "from scikeras.wrappers import KerasClassifier\n",
    "from sklearn.model_selection import GridSearchCV\n",
    "from sklearn.model_selection import train_test_split, RandomizedSearchCV, StratifiedKFold\n",
    "from sklearn.metrics import confusion_matrix, ConfusionMatrixDisplay\n",
    "\n",
    "\n",
    "import src.python.yalefaces as yalefaces\n",
    "from src.python.models import Lenet5"
   ]
  },
  {
   "cell_type": "code",
   "execution_count": 6,
   "metadata": {
    "pycharm": {
     "name": "#%%\n"
    }
   },
   "outputs": [],
   "source": [
    "X, y = yalefaces.load(\"../datasets/yalefaces\", flatten=False)\n",
    "X_train, X_test, y_train, y_test = train_test_split(X, y, test_size=0.3, shuffle=True, random_state=11, stratify=y)"
   ]
  },
  {
   "cell_type": "code",
   "execution_count": 44,
   "metadata": {
    "pycharm": {
     "name": "#%%\n"
    }
   },
   "outputs": [],
   "source": [
    "batch_size = [20, 40, 60, 80]\n",
    "epochs = [20]\n",
    "optimizer = ['sgd', 'rmsprop', 'adadelta', 'adam', 'adamx']\n",
    "learn_rate = [0.001, 0.01, 0.1, 0.2, 0.3]\n",
    "momentum = [0.0, 0.2, 0.4, 0.6, 0.8, 0.9]\n",
    "# init_mode = ['uniform', 'lecun_uniform', 'normal', 'zero', 'glorot_normal', 'glorot_uniform', 'he_normal',\n",
    "#              'he_uniform']\n",
    "# dropout_rate = [0.0, 0.1, 0.2, 0.3, 0.4, 0.5, 0.6, 0.7, 0.8, 0.9]\n",
    "param_grid = dict(\n",
    "    batch_size=batch_size,\n",
    "    epochs=epochs,\n",
    "    optimizer=optimizer,\n",
    "    optimizer__learning_rate=learn_rate\n",
    ")\n",
    "model = KerasClassifier(model=Lenet5, loss=\"sparse_categorical_crossentropy\", metrics=['accuracy'])"
   ]
  },
  {
   "cell_type": "code",
   "execution_count": 45,
   "outputs": [
    {
     "name": "stderr",
     "output_type": "stream",
     "text": [
      "C:\\Users\\migue\\Documents\\face-recog\\venv\\lib\\site-packages\\sklearn\\model_selection\\_validation.py:378: FitFailedWarning: \n",
      "30 fits failed out of a total of 100.\n",
      "The score on these train-test partitions for these parameters will be set to nan.\n",
      "If these failures are not expected, you can try to debug them by setting error_score='raise'.\n",
      "\n",
      "Below are more details about the failures:\n",
      "--------------------------------------------------------------------------------\n",
      "30 fits failed with the following error:\n",
      "Traceback (most recent call last):\n",
      "  File \"C:\\Users\\migue\\Documents\\face-recog\\venv\\lib\\site-packages\\sklearn\\model_selection\\_validation.py\", line 686, in _fit_and_score\n",
      "    estimator.fit(X_train, y_train, **fit_params)\n",
      "  File \"C:\\Users\\migue\\Documents\\face-recog\\venv\\lib\\site-packages\\scikeras\\wrappers.py\", line 1474, in fit\n",
      "    super().fit(X=X, y=y, sample_weight=sample_weight, **kwargs)\n",
      "  File \"C:\\Users\\migue\\Documents\\face-recog\\venv\\lib\\site-packages\\scikeras\\wrappers.py\", line 742, in fit\n",
      "    self._fit(\n",
      "  File \"C:\\Users\\migue\\Documents\\face-recog\\venv\\lib\\site-packages\\scikeras\\wrappers.py\", line 901, in _fit\n",
      "    self._ensure_compiled_model()\n",
      "  File \"C:\\Users\\migue\\Documents\\face-recog\\venv\\lib\\site-packages\\scikeras\\wrappers.py\", line 427, in _ensure_compiled_model\n",
      "    kw = self._get_compile_kwargs()\n",
      "  File \"C:\\Users\\migue\\Documents\\face-recog\\venv\\lib\\site-packages\\scikeras\\wrappers.py\", line 339, in _get_compile_kwargs\n",
      "    compile_kwargs[\"optimizer\"] = try_to_convert_strings_to_classes(\n",
      "  File \"C:\\Users\\migue\\Documents\\face-recog\\venv\\lib\\site-packages\\scikeras\\_utils.py\", line 189, in try_to_convert_strings_to_classes\n",
      "    return class_getter(items)  # single item, despite parameter name\n",
      "  File \"C:\\Users\\migue\\Documents\\face-recog\\venv\\lib\\site-packages\\scikeras\\_utils.py\", line 162, in get_optimizer_class\n",
      "    optimizers_mod.get(optimizer)\n",
      "  File \"C:\\Users\\migue\\Documents\\face-recog\\venv\\lib\\site-packages\\keras\\optimizers\\__init__.py\", line 169, in get\n",
      "    return deserialize(config)\n",
      "  File \"C:\\Users\\migue\\Documents\\face-recog\\venv\\lib\\site-packages\\keras\\optimizers\\__init__.py\", line 131, in deserialize\n",
      "    return deserialize_keras_object(\n",
      "  File \"C:\\Users\\migue\\Documents\\face-recog\\venv\\lib\\site-packages\\keras\\utils\\generic_utils.py\", line 664, in deserialize_keras_object\n",
      "    (cls, cls_config) = class_and_config_for_serialized_keras_object(\n",
      "  File \"C:\\Users\\migue\\Documents\\face-recog\\venv\\lib\\site-packages\\keras\\utils\\generic_utils.py\", line 562, in class_and_config_for_serialized_keras_object\n",
      "    raise ValueError(\n",
      "ValueError: Unknown optimizer: adamx. Please ensure this object is passed to the `custom_objects` argument. See https://www.tensorflow.org/guide/keras/save_and_serialize#registering_the_custom_object for details.\n",
      "\n",
      "  warnings.warn(some_fits_failed_message, FitFailedWarning)\n",
      "C:\\Users\\migue\\Documents\\face-recog\\venv\\lib\\site-packages\\sklearn\\model_selection\\_search.py:953: UserWarning: One or more of the test scores are non-finite: [       nan 0.06758621 0.06758621 0.06758621 0.06758621 0.06758621\n",
      "        nan 0.22275862 0.06758621 0.06758621        nan        nan\n",
      " 0.90528736 0.06758621 0.87816092 0.74252874        nan        nan\n",
      " 0.07402299 0.89195402]\n",
      "  warnings.warn(\n"
     ]
    },
    {
     "name": "stdout",
     "output_type": "stream",
     "text": [
      "Epoch 1/20\n",
      "4/4 [==============================] - 5s 1s/step - loss: 2.8354 - accuracy: 0.0608\n",
      "Epoch 2/20\n",
      "4/4 [==============================] - 5s 1s/step - loss: 2.4714 - accuracy: 0.2500\n",
      "Epoch 3/20\n",
      "4/4 [==============================] - 5s 1s/step - loss: 1.9422 - accuracy: 0.4459\n",
      "Epoch 4/20\n",
      "4/4 [==============================] - 5s 1s/step - loss: 1.5873 - accuracy: 0.5878\n",
      "Epoch 5/20\n",
      "4/4 [==============================] - 5s 1s/step - loss: 1.2413 - accuracy: 0.7162\n",
      "Epoch 6/20\n",
      "4/4 [==============================] - 5s 1s/step - loss: 0.8863 - accuracy: 0.8311\n",
      "Epoch 7/20\n",
      "4/4 [==============================] - 5s 1s/step - loss: 0.6728 - accuracy: 0.8919\n",
      "Epoch 8/20\n",
      "4/4 [==============================] - 5s 1s/step - loss: 0.5734 - accuracy: 0.9054\n",
      "Epoch 9/20\n",
      "4/4 [==============================] - 5s 1s/step - loss: 0.4121 - accuracy: 0.9392\n",
      "Epoch 10/20\n",
      "4/4 [==============================] - 5s 1s/step - loss: 0.3351 - accuracy: 0.9662\n",
      "Epoch 11/20\n",
      "4/4 [==============================] - 5s 1s/step - loss: 0.2815 - accuracy: 0.9797\n",
      "Epoch 12/20\n",
      "4/4 [==============================] - 5s 1s/step - loss: 0.2186 - accuracy: 0.9932\n",
      "Epoch 13/20\n",
      "4/4 [==============================] - 5s 1s/step - loss: 0.1937 - accuracy: 0.9932\n",
      "Epoch 14/20\n",
      "4/4 [==============================] - 5s 1s/step - loss: 0.1651 - accuracy: 0.9932\n",
      "Epoch 15/20\n",
      "4/4 [==============================] - 5s 1s/step - loss: 0.1549 - accuracy: 0.9932\n",
      "Epoch 16/20\n",
      "4/4 [==============================] - 5s 1s/step - loss: 0.1372 - accuracy: 0.9932\n",
      "Epoch 17/20\n",
      "4/4 [==============================] - 5s 1s/step - loss: 0.1221 - accuracy: 0.9932\n",
      "Epoch 18/20\n",
      "4/4 [==============================] - 5s 1s/step - loss: 0.1116 - accuracy: 0.9932\n",
      "Epoch 19/20\n",
      "4/4 [==============================] - 5s 1s/step - loss: 0.1026 - accuracy: 1.0000\n",
      "Epoch 20/20\n",
      "4/4 [==============================] - 5s 1s/step - loss: 0.0960 - accuracy: 0.9932\n"
     ]
    }
   ],
   "source": [
    "cv = RandomizedSearchCV(model, param_grid, n_jobs=-1, cv=StratifiedKFold(n_splits=5, shuffle=True), n_iter=20)\n",
    "#cv = GridSearchCV(model, param_grid, n_jobs=-1, cv=4)\n",
    "grid_result = cv.fit(X_train, y_train)"
   ],
   "metadata": {
    "collapsed": false,
    "pycharm": {
     "name": "#%%\n"
    }
   }
  },
  {
   "cell_type": "code",
   "execution_count": 46,
   "outputs": [
    {
     "name": "stdout",
     "output_type": "stream",
     "text": [
      "Best: 0.905287 using {'optimizer__learning_rate': 0.2, 'optimizer': 'adadelta', 'epochs': 20, 'batch_size': 40}\n",
      "nan (nan) with: {'optimizer__learning_rate': 0.3, 'optimizer': 'adamx', 'epochs': 20, 'batch_size': 20}\n",
      "0.067586 (0.001126) with: {'optimizer__learning_rate': 0.1, 'optimizer': 'sgd', 'epochs': 20, 'batch_size': 80}\n",
      "0.067586 (0.001126) with: {'optimizer__learning_rate': 0.2, 'optimizer': 'sgd', 'epochs': 20, 'batch_size': 40}\n",
      "0.067586 (0.001126) with: {'optimizer__learning_rate': 0.3, 'optimizer': 'rmsprop', 'epochs': 20, 'batch_size': 20}\n",
      "0.067586 (0.001126) with: {'optimizer__learning_rate': 0.01, 'optimizer': 'adam', 'epochs': 20, 'batch_size': 60}\n",
      "0.067586 (0.001126) with: {'optimizer__learning_rate': 0.3, 'optimizer': 'sgd', 'epochs': 20, 'batch_size': 80}\n",
      "nan (nan) with: {'optimizer__learning_rate': 0.001, 'optimizer': 'adamx', 'epochs': 20, 'batch_size': 40}\n",
      "0.222759 (0.151881) with: {'optimizer__learning_rate': 0.001, 'optimizer': 'sgd', 'epochs': 20, 'batch_size': 20}\n",
      "0.067586 (0.001126) with: {'optimizer__learning_rate': 0.2, 'optimizer': 'rmsprop', 'epochs': 20, 'batch_size': 60}\n",
      "0.067586 (0.001126) with: {'optimizer__learning_rate': 0.1, 'optimizer': 'adam', 'epochs': 20, 'batch_size': 60}\n",
      "nan (nan) with: {'optimizer__learning_rate': 0.2, 'optimizer': 'adamx', 'epochs': 20, 'batch_size': 80}\n",
      "nan (nan) with: {'optimizer__learning_rate': 0.1, 'optimizer': 'adamx', 'epochs': 20, 'batch_size': 40}\n",
      "0.905287 (0.054685) with: {'optimizer__learning_rate': 0.2, 'optimizer': 'adadelta', 'epochs': 20, 'batch_size': 40}\n",
      "0.067586 (0.001126) with: {'optimizer__learning_rate': 0.2, 'optimizer': 'adam', 'epochs': 20, 'batch_size': 60}\n",
      "0.878161 (0.096615) with: {'optimizer__learning_rate': 0.2, 'optimizer': 'adadelta', 'epochs': 20, 'batch_size': 80}\n",
      "0.742529 (0.125221) with: {'optimizer__learning_rate': 0.1, 'optimizer': 'adadelta', 'epochs': 20, 'batch_size': 60}\n",
      "nan (nan) with: {'optimizer__learning_rate': 0.001, 'optimizer': 'adamx', 'epochs': 20, 'batch_size': 20}\n",
      "nan (nan) with: {'optimizer__learning_rate': 0.01, 'optimizer': 'adamx', 'epochs': 20, 'batch_size': 40}\n",
      "0.074023 (0.032295) with: {'optimizer__learning_rate': 0.001, 'optimizer': 'adadelta', 'epochs': 20, 'batch_size': 20}\n",
      "0.891954 (0.104062) with: {'optimizer__learning_rate': 0.3, 'optimizer': 'adadelta', 'epochs': 20, 'batch_size': 60}\n"
     ]
    }
   ],
   "source": [
    "# summarize results\n",
    "print(\"Best: %f using %s\" % (grid_result.best_score_, grid_result.best_params_))\n",
    "means = grid_result.cv_results_['mean_test_score']\n",
    "stds = grid_result.cv_results_['std_test_score']\n",
    "params = grid_result.cv_results_['params']\n",
    "for mean, stdev, param in zip(means, stds, params):\n",
    "    print(\"%f (%f) with: %r\" % (mean, stdev, param))"
   ],
   "metadata": {
    "collapsed": false,
    "pycharm": {
     "name": "#%%\n"
    }
   }
  },
  {
   "cell_type": "code",
   "execution_count": 80,
   "outputs": [
    {
     "data": {
      "text/plain": "<Figure size 432x288 with 1 Axes>",
      "image/png": "[encoded data removed]"
     },
     "metadata": {
      "needs_background": "light"
     },
     "output_type": "display_data"
    }
   ],
   "source": [
    "history = grid_result.best_estimator_.history_\n",
    "plt.plot(history['loss'])\n",
    "plt.title('model loss')\n",
    "plt.ylabel('loss')\n",
    "plt.xlabel('epoch')\n",
    "plt.legend(['train', 'test'], loc='upper left')\n",
    "plt.show()"
   ],
   "metadata": {
    "collapsed": false,
    "pycharm": {
     "name": "#%%\n"
    }
   }
  },
  {
   "cell_type": "code",
   "execution_count": 81,
   "outputs": [
    {
     "data": {
      "text/plain": "<matplotlib.legend.Legend at 0x18def2310d0>"
     },
     "execution_count": 81,
     "metadata": {},
     "output_type": "execute_result"
    },
    {
     "data": {
      "text/plain": "<Figure size 432x288 with 1 Axes>",
      "image/png": "[encoded data removed]"
     },
     "metadata": {
      "needs_background": "light"
     },
     "output_type": "display_data"
    }
   ],
   "source": [
    "history = grid_result.best_estimator_.history_\n",
    "plt.plot(history['accuracy'], label='accuracy')\n",
    "plt.plot(history['val_accuracy'], label='val_accuracy')\n",
    "plt.xlabel('Epoch')\n",
    "plt.ylabel('Accuracy')\n",
    "plt.ylim([0.5, 1])\n",
    "plt.legend(loc='lower right')"
   ],
   "metadata": {
    "collapsed": false,
    "pycharm": {
     "name": "#%%\n"
    }
   }
  },
  {
   "cell_type": "code",
   "execution_count": 83,
   "outputs": [
    {
     "name": "stdout",
     "output_type": "stream",
     "text": [
      "WARNING:tensorflow:5 out of the last 12 calls to <function Model.make_test_function.<locals>.test_function at 0x0000018E011E43A0> triggered tf.function retracing. Tracing is expensive and the excessive number of tracings could be due to (1) creating @tf.function repeatedly in a loop, (2) passing tensors with different shapes, (3) passing Python objects instead of tensors. For (1), please define your @tf.function outside of the loop. For (2), @tf.function has reduce_retracing=True option that can avoid unnecessary retracing. For (3), please refer to https://www.tensorflow.org/guide/function#controlling_retracing and https://www.tensorflow.org/api_docs/python/tf/function for  more details.\n"
     ]
    },
    {
     "name": "stderr",
     "output_type": "stream",
     "text": [
      "WARNING:tensorflow:5 out of the last 12 calls to <function Model.make_test_function.<locals>.test_function at 0x0000018E011E43A0> triggered tf.function retracing. Tracing is expensive and the excessive number of tracings could be due to (1) creating @tf.function repeatedly in a loop, (2) passing tensors with different shapes, (3) passing Python objects instead of tensors. For (1), please define your @tf.function outside of the loop. For (2), @tf.function has reduce_retracing=True option that can avoid unnecessary retracing. For (3), please refer to https://www.tensorflow.org/guide/function#controlling_retracing and https://www.tensorflow.org/api_docs/python/tf/function for  more details.\n"
     ]
    },
    {
     "name": "stdout",
     "output_type": "stream",
     "text": [
      "1/1 [==============================] - 0s 214ms/step - loss: 0.2942 - accuracy: 0.9412\n"
     ]
    }
   ],
   "source": [
    "test_loss, test_acc = cv.best_estimator_.model_.evaluate(X_test, y_test)"
   ],
   "metadata": {
    "collapsed": false,
    "pycharm": {
     "name": "#%%\n"
    }
   }
  },
  {
   "cell_type": "code",
   "execution_count": null,
   "outputs": [],
   "source": [
    "#model = KerasClassifier(model=Lenet5, loss=\"sparse_categorical_crossentropy\", metrics=['accuracy'], **grid_result.best_params_)\n",
    "#model.fit(X_train, y_train)"
   ],
   "metadata": {
    "collapsed": false,
    "pycharm": {
     "name": "#%%\n"
    }
   }
  },
  {
   "cell_type": "code",
   "execution_count": 63,
   "outputs": [
    {
     "name": "stdout",
     "output_type": "stream",
     "text": [
      "1/1 [==============================] - 0s 131ms/step - loss: 0.4262 - accuracy: 0.8824\n",
      "Score (original): [0.4262296259403229, 0.8823529481887817]\n",
      "1/1 [==============================] - 0s 126ms/step\n"
     ]
    },
    {
     "data": {
      "text/plain": "<sklearn.metrics._plot.confusion_matrix.ConfusionMatrixDisplay at 0x18def0a3880>"
     },
     "execution_count": 63,
     "metadata": {},
     "output_type": "execute_result"
    },
    {
     "data": {
      "text/plain": "<Figure size 432x288 with 2 Axes>",
      "image/png": "[encoded data removed]"
     },
     "metadata": {
      "needs_background": "light"
     },
     "output_type": "display_data"
    }
   ],
   "source": [
    "\n",
    "cls = cv.best_estimator_.model_\n",
    "print(\"Score (original):\", cls.evaluate(X_test, y_test))\n",
    "y_pred = cls.predict(X_test)\n",
    "ConfusionMatrixDisplay.from_predictions(y_test, y_pred.argmax(axis=1))"
   ],
   "metadata": {
    "collapsed": false,
    "pycharm": {
     "name": "#%%\n"
    }
   }
  }
 ],
 "metadata": {
  "kernelspec": {
   "display_name": "Python 3 (ipykernel)",
   "language": "python",
   "name": "python3"
  },
  "language_info": {
   "codemirror_mode": {
    "name": "ipython",
    "version": 3
   },
   "file_extension": ".py",
   "mimetype": "text/x-python",
   "name": "python",
   "nbconvert_exporter": "python",
   "pygments_lexer": "ipython3",
   "version": "3.9.10"
  }
 },
 "nbformat": 4,
 "nbformat_minor": 1
}