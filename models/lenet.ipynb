{
 "cells": [
  {
   "cell_type": "code",
   "execution_count": 1,
   "metadata": {
    "pycharm": {
     "name": "#%%\n"
    }
   },
   "outputs": [],
   "source": [
    "import matplotlib.pyplot as plt\n",
    "import numpy as np\n",
    "import tensorflow as tf\n",
    "from sklearn.model_selection import train_test_split\n",
    "import src.python.yalefaces as yalefaces"
   ]
  },
  {
   "cell_type": "code",
   "execution_count": 13,
   "metadata": {
    "pycharm": {
     "name": "#%%\n"
    }
   },
   "outputs": [],
   "source": [
    "X, y = yalefaces.load(\"../datasets/yalefaces\", flatten=False)\n",
    "X_train, X_test, y_train, y_test = train_test_split(X, y, test_size=0.2, random_state=11, stratify=y)"
   ]
  },
  {
   "cell_type": "code",
   "execution_count": 14,
   "metadata": {
    "pycharm": {
     "name": "#%%\n"
    }
   },
   "outputs": [
    {
     "name": "stdout",
     "output_type": "stream",
     "text": [
      "Model: \"sequential_4\"\n",
      "_________________________________________________________________\n",
      " Layer (type)                Output Shape              Param #   \n",
      "=================================================================\n",
      " conv2d_12 (Conv2D)          (None, 243, 320, 28)      728       \n",
      "                                                                 \n",
      " average_pooling2d_8 (Averag  (None, 115, 160, 28)     0         \n",
      " ePooling2D)                                                     \n",
      "                                                                 \n",
      " conv2d_13 (Conv2D)          (None, 115, 160, 10)      7010      \n",
      "                                                                 \n",
      " average_pooling2d_9 (Averag  (None, 56, 80, 10)       0         \n",
      " ePooling2D)                                                     \n",
      "                                                                 \n",
      " conv2d_14 (Conv2D)          (None, 56, 80, 1)         251       \n",
      "                                                                 \n",
      " flatten_4 (Flatten)         (None, 4480)              0         \n",
      "                                                                 \n",
      " dense_6 (Dense)             (None, 15)                67215     \n",
      "                                                                 \n",
      "=================================================================\n",
      "Total params: 75,204\n",
      "Trainable params: 75,204\n",
      "Non-trainable params: 0\n",
      "_________________________________________________________________\n"
     ]
    }
   ],
   "source": [
    "model = tf.keras.Sequential()\n",
    "\n",
    "model.add(tf.keras.layers.Conv2D(28, 5, activation=\"tanh\", strides=1, padding=\"same\", input_shape=[243, 320, 1]))\n",
    "model.add(tf.keras.layers.AveragePooling2D((14, 2), strides=2))\n",
    "model.add(tf.keras.layers.Conv2D(10, 5, activation=\"tanh\", strides=1, padding=\"same\"))\n",
    "model.add(tf.keras.layers.AveragePooling2D((5, 2), strides=2))\n",
    "model.add(tf.keras.layers.Conv2D(1, 5, activation=\"tanh\", strides=1, padding=\"same\"))\n",
    "model.add(tf.keras.layers.Flatten())\n",
    "model.add(tf.keras.layers.Dense(15, activation=\"softmax\"))\n",
    "model.compile(optimizer=\"adam\", loss=\"sparse_categorical_crossentropy\", metrics=[\"accuracy\"])\n",
    "model.summary()"
   ]
  },
  {
   "cell_type": "code",
   "execution_count": 15,
   "outputs": [
    {
     "name": "stdout",
     "output_type": "stream",
     "text": [
      "Epoch 1/30\n",
      "5/5 [==============================] - 5s 997ms/step - loss: 4.5345 - accuracy: 0.0758 - val_loss: 4.0541 - val_accuracy: 0.0606\n",
      "Epoch 2/30\n",
      "5/5 [==============================] - 5s 951ms/step - loss: 3.8914 - accuracy: 0.0758 - val_loss: 2.7144 - val_accuracy: 0.0909\n",
      "Epoch 3/30\n",
      "5/5 [==============================] - 5s 976ms/step - loss: 2.7102 - accuracy: 0.1894 - val_loss: 2.8051 - val_accuracy: 0.1515\n",
      "Epoch 4/30\n",
      "5/5 [==============================] - 5s 966ms/step - loss: 2.3779 - accuracy: 0.3030 - val_loss: 2.7349 - val_accuracy: 0.0606\n",
      "Epoch 5/30\n",
      "5/5 [==============================] - 5s 956ms/step - loss: 2.3275 - accuracy: 0.4015 - val_loss: 1.9369 - val_accuracy: 0.5152\n",
      "Epoch 6/30\n",
      "5/5 [==============================] - 5s 957ms/step - loss: 1.4961 - accuracy: 0.5758 - val_loss: 1.5974 - val_accuracy: 0.4545\n",
      "Epoch 7/30\n",
      "5/5 [==============================] - 5s 963ms/step - loss: 1.0842 - accuracy: 0.7576 - val_loss: 1.1854 - val_accuracy: 0.6970\n",
      "Epoch 8/30\n",
      "5/5 [==============================] - 5s 970ms/step - loss: 0.8391 - accuracy: 0.8409 - val_loss: 1.0203 - val_accuracy: 0.6970\n",
      "Epoch 9/30\n",
      "5/5 [==============================] - 5s 979ms/step - loss: 0.6034 - accuracy: 0.8485 - val_loss: 0.8572 - val_accuracy: 0.7576\n",
      "Epoch 10/30\n",
      "5/5 [==============================] - 5s 962ms/step - loss: 0.3951 - accuracy: 0.9242 - val_loss: 0.7519 - val_accuracy: 0.8182\n",
      "Epoch 11/30\n",
      "5/5 [==============================] - 5s 951ms/step - loss: 0.2684 - accuracy: 0.9545 - val_loss: 0.6558 - val_accuracy: 0.8182\n",
      "Epoch 12/30\n",
      "5/5 [==============================] - 5s 956ms/step - loss: 0.1739 - accuracy: 0.9848 - val_loss: 0.5529 - val_accuracy: 0.8182\n",
      "Epoch 13/30\n",
      "5/5 [==============================] - 5s 952ms/step - loss: 0.1255 - accuracy: 0.9848 - val_loss: 0.5214 - val_accuracy: 0.8485\n",
      "Epoch 14/30\n",
      "5/5 [==============================] - 5s 956ms/step - loss: 0.0788 - accuracy: 1.0000 - val_loss: 0.5345 - val_accuracy: 0.8485\n",
      "Epoch 15/30\n",
      "5/5 [==============================] - 5s 972ms/step - loss: 0.0493 - accuracy: 1.0000 - val_loss: 0.5392 - val_accuracy: 0.8485\n",
      "Epoch 16/30\n",
      "5/5 [==============================] - 5s 959ms/step - loss: 0.0355 - accuracy: 1.0000 - val_loss: 0.5227 - val_accuracy: 0.8485\n",
      "Epoch 17/30\n",
      "5/5 [==============================] - 5s 960ms/step - loss: 0.0290 - accuracy: 1.0000 - val_loss: 0.4707 - val_accuracy: 0.8788\n",
      "Epoch 18/30\n",
      "5/5 [==============================] - 5s 974ms/step - loss: 0.0235 - accuracy: 1.0000 - val_loss: 0.4957 - val_accuracy: 0.8485\n",
      "Epoch 19/30\n",
      "5/5 [==============================] - 5s 949ms/step - loss: 0.0205 - accuracy: 1.0000 - val_loss: 0.4762 - val_accuracy: 0.8485\n",
      "Epoch 20/30\n",
      "5/5 [==============================] - 5s 956ms/step - loss: 0.0169 - accuracy: 1.0000 - val_loss: 0.4467 - val_accuracy: 0.8788\n",
      "Epoch 21/30\n",
      "5/5 [==============================] - 5s 961ms/step - loss: 0.0142 - accuracy: 1.0000 - val_loss: 0.4372 - val_accuracy: 0.8788\n",
      "Epoch 22/30\n",
      "5/5 [==============================] - 5s 956ms/step - loss: 0.0126 - accuracy: 1.0000 - val_loss: 0.4435 - val_accuracy: 0.8788\n",
      "Epoch 23/30\n",
      "5/5 [==============================] - 5s 964ms/step - loss: 0.0109 - accuracy: 1.0000 - val_loss: 0.4614 - val_accuracy: 0.8788\n",
      "Epoch 24/30\n",
      "5/5 [==============================] - 5s 970ms/step - loss: 0.0105 - accuracy: 1.0000 - val_loss: 0.4482 - val_accuracy: 0.8788\n",
      "Epoch 25/30\n",
      "5/5 [==============================] - 5s 970ms/step - loss: 0.0092 - accuracy: 1.0000 - val_loss: 0.4211 - val_accuracy: 0.8788\n",
      "Epoch 26/30\n",
      "5/5 [==============================] - 5s 947ms/step - loss: 0.0084 - accuracy: 1.0000 - val_loss: 0.4147 - val_accuracy: 0.8788\n",
      "Epoch 27/30\n",
      "5/5 [==============================] - 5s 1s/step - loss: 0.0080 - accuracy: 1.0000 - val_loss: 0.4236 - val_accuracy: 0.8788\n",
      "Epoch 28/30\n",
      "5/5 [==============================] - 5s 1s/step - loss: 0.0074 - accuracy: 1.0000 - val_loss: 0.4443 - val_accuracy: 0.8788\n",
      "Epoch 29/30\n",
      "5/5 [==============================] - 5s 998ms/step - loss: 0.0071 - accuracy: 1.0000 - val_loss: 0.4499 - val_accuracy: 0.8788\n",
      "Epoch 30/30\n",
      "5/5 [==============================] - 5s 998ms/step - loss: 0.0067 - accuracy: 1.0000 - val_loss: 0.4361 - val_accuracy: 0.8788\n"
     ]
    }
   ],
   "source": [
    "history = model.fit(X_train, y_train, epochs=30,\n",
    "                    validation_data=(X_test, y_test))"
   ],
   "metadata": {
    "collapsed": false,
    "pycharm": {
     "name": "#%%\n"
    }
   }
  },
  {
   "cell_type": "code",
   "execution_count": 16,
   "outputs": [
    {
     "data": {
      "text/plain": "<Figure size 432x288 with 1 Axes>",
      "image/png": "[encoded data removed]"
     },
     "metadata": {
      "needs_background": "light"
     },
     "output_type": "display_data"
    }
   ],
   "source": [
    "plt.plot(history.history['loss'])\n",
    "plt.title('model loss')\n",
    "plt.ylabel('loss')\n",
    "plt.xlabel('epoch')\n",
    "plt.legend(['train', 'test'], loc='upper left')\n",
    "plt.show()"
   ],
   "metadata": {
    "collapsed": false,
    "pycharm": {
     "name": "#%%\n"
    }
   }
  },
  {
   "cell_type": "code",
   "execution_count": 17,
   "outputs": [
    {
     "name": "stdout",
     "output_type": "stream",
     "text": [
      "2/2 - 0s - loss: 0.4361 - accuracy: 0.8788 - 318ms/epoch - 159ms/step\n"
     ]
    },
    {
     "data": {
      "text/plain": "<Figure size 432x288 with 1 Axes>",
      "image/png": "[encoded data removed]"
     },
     "metadata": {
      "needs_background": "light"
     },
     "output_type": "display_data"
    }
   ],
   "source": [
    "plt.plot(history.history['accuracy'], label='accuracy')\n",
    "plt.plot(history.history['val_accuracy'], label='val_accuracy')\n",
    "plt.xlabel('Epoch')\n",
    "plt.ylabel('Accuracy')\n",
    "plt.ylim([0.5, 1])\n",
    "plt.legend(loc='lower right')\n",
    "\n",
    "test_loss, test_acc = model.evaluate(X_test, y_test, verbose=2)"
   ],
   "metadata": {
    "collapsed": false,
    "pycharm": {
     "name": "#%%\n"
    }
   }
  },
  {
   "cell_type": "code",
   "execution_count": 18,
   "outputs": [
    {
     "name": "stderr",
     "output_type": "stream",
     "text": [
      "WARNING:absl:Found untraced functions such as _jit_compiled_convolution_op, _jit_compiled_convolution_op, _jit_compiled_convolution_op while saving (showing 3 of 3). These functions will not be directly callable after loading.\n"
     ]
    },
    {
     "name": "stdout",
     "output_type": "stream",
     "text": [
      "INFO:tensorflow:Assets written to: ./lenet5\\assets\n"
     ]
    },
    {
     "name": "stderr",
     "output_type": "stream",
     "text": [
      "INFO:tensorflow:Assets written to: ./lenet5\\assets\n"
     ]
    }
   ],
   "source": [
    "model.save('./lenet5')"
   ],
   "metadata": {
    "collapsed": false,
    "pycharm": {
     "name": "#%%\n"
    }
   }
  },
  {
   "cell_type": "code",
   "execution_count": null,
   "outputs": [],
   "source": [],
   "metadata": {
    "collapsed": false,
    "pycharm": {
     "name": "#%%\n"
    }
   }
  }
 ],
 "metadata": {
  "kernelspec": {
   "display_name": "Python 3 (ipykernel)",
   "language": "python",
   "name": "python3"
  },
  "language_info": {
   "codemirror_mode": {
    "name": "ipython",
    "version": 3
   },
   "file_extension": ".py",
   "mimetype": "text/x-python",
   "name": "python",
   "nbconvert_exporter": "python",
   "pygments_lexer": "ipython3",
   "version": "3.9.10"
  }
 },
 "nbformat": 4,
 "nbformat_minor": 1
}