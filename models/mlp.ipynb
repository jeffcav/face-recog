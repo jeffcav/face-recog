{
 "cells": [
  {
   "cell_type": "code",
   "execution_count": 3,
   "outputs": [],
   "source": [
    "import keras.layers\n",
    "import tensorflow as tf\n",
    "from tensorflow import keras\n",
    "from tensorflow.keras import layers\n",
    "from sklearn.model_selection import train_test_split\n",
    "import src.python.yalefaces as yalefaces\n",
    "import numpy as np\n",
    "import matplotlib.pyplot as plt"
   ],
   "metadata": {
    "collapsed": false,
    "pycharm": {
     "name": "#%%\n"
    }
   }
  },
  {
   "cell_type": "code",
   "execution_count": 4,
   "outputs": [],
   "source": [
    "X, y = yalefaces.load(\"../datasets/yalefaces\", flatten=False)"
   ],
   "metadata": {
    "collapsed": false,
    "pycharm": {
     "name": "#%%\n"
    }
   }
  },
  {
   "cell_type": "code",
   "execution_count": 5,
   "outputs": [],
   "source": [
    "X_train, X_test, y_train, y_test = train_test_split(X, y, test_size=0.1, random_state=24, stratify=y)"
   ],
   "metadata": {
    "collapsed": false,
    "pycharm": {
     "name": "#%%\n"
    }
   }
  },
  {
   "cell_type": "code",
   "execution_count": 6,
   "outputs": [
    {
     "name": "stdout",
     "output_type": "stream",
     "text": [
      "Model: \"model\"\n",
      "_________________________________________________________________\n",
      " Layer (type)                Output Shape              Param #   \n",
      "=================================================================\n",
      " input_1 (InputLayer)        [(None, 243, 320)]        0         \n",
      "                                                                 \n",
      " rescaling (Rescaling)       (None, 243, 320)          0         \n",
      "                                                                 \n",
      " flatten (Flatten)           (None, 77760)             0         \n",
      "                                                                 \n",
      " dense (Dense)               (None, 128)               9953408   \n",
      "                                                                 \n",
      " dense_1 (Dense)             (None, 128)               16512     \n",
      "                                                                 \n",
      " dense_2 (Dense)             (None, 15)                1935      \n",
      "                                                                 \n",
      "=================================================================\n",
      "Total params: 9,971,855\n",
      "Trainable params: 9,971,855\n",
      "Non-trainable params: 0\n",
      "_________________________________________________________________\n",
      "Fit on NumPy data\n",
      "Epoch 1/30\n",
      "3/3 [==============================] - 0s 22ms/step - loss: 3.8542 - accuracy: 0.0946\n",
      "Epoch 2/30\n",
      "3/3 [==============================] - 0s 22ms/step - loss: 18.9622 - accuracy: 0.0338\n",
      "Epoch 3/30\n",
      "3/3 [==============================] - 0s 22ms/step - loss: 2.7082 - accuracy: 0.0676\n",
      "Epoch 4/30\n",
      "3/3 [==============================] - 0s 23ms/step - loss: 2.7081 - accuracy: 0.0676\n",
      "Epoch 5/30\n",
      "3/3 [==============================] - 0s 23ms/step - loss: 2.7081 - accuracy: 0.0676\n",
      "Epoch 6/30\n",
      "3/3 [==============================] - 0s 23ms/step - loss: 2.7080 - accuracy: 0.0676\n",
      "Epoch 7/30\n",
      "3/3 [==============================] - 0s 23ms/step - loss: 2.7080 - accuracy: 0.0405\n",
      "Epoch 8/30\n",
      "3/3 [==============================] - 0s 24ms/step - loss: 2.7080 - accuracy: 0.0676\n",
      "Epoch 9/30\n",
      "3/3 [==============================] - 0s 24ms/step - loss: 2.7080 - accuracy: 0.0676\n",
      "Epoch 10/30\n",
      "3/3 [==============================] - 0s 23ms/step - loss: 2.7080 - accuracy: 0.0676\n",
      "Epoch 11/30\n",
      "3/3 [==============================] - 0s 23ms/step - loss: 2.7080 - accuracy: 0.0676\n",
      "Epoch 12/30\n",
      "3/3 [==============================] - 0s 27ms/step - loss: 2.7080 - accuracy: 0.0676\n",
      "Epoch 13/30\n",
      "3/3 [==============================] - 0s 28ms/step - loss: 2.7080 - accuracy: 0.0676\n",
      "Epoch 14/30\n",
      "3/3 [==============================] - 0s 27ms/step - loss: 2.7080 - accuracy: 0.0676\n",
      "Epoch 15/30\n",
      "3/3 [==============================] - 0s 28ms/step - loss: 2.7080 - accuracy: 0.0676\n",
      "Epoch 16/30\n",
      "3/3 [==============================] - 0s 26ms/step - loss: 2.7080 - accuracy: 0.0676\n",
      "Epoch 17/30\n",
      "3/3 [==============================] - 0s 23ms/step - loss: 2.7080 - accuracy: 0.0676\n",
      "Epoch 18/30\n",
      "3/3 [==============================] - 0s 23ms/step - loss: 2.7080 - accuracy: 0.0676\n",
      "Epoch 19/30\n",
      "3/3 [==============================] - 0s 22ms/step - loss: 2.7080 - accuracy: 0.0608\n",
      "Epoch 20/30\n",
      "3/3 [==============================] - 0s 22ms/step - loss: 2.7080 - accuracy: 0.0541\n",
      "Epoch 21/30\n",
      "3/3 [==============================] - 0s 23ms/step - loss: 2.7080 - accuracy: 0.0676\n",
      "Epoch 22/30\n",
      "3/3 [==============================] - 0s 22ms/step - loss: 2.7080 - accuracy: 0.0676\n",
      "Epoch 23/30\n",
      "3/3 [==============================] - 0s 24ms/step - loss: 2.7080 - accuracy: 0.0676\n",
      "Epoch 24/30\n",
      "3/3 [==============================] - 0s 29ms/step - loss: 2.7080 - accuracy: 0.0676\n",
      "Epoch 25/30\n",
      "3/3 [==============================] - 0s 29ms/step - loss: 2.7080 - accuracy: 0.0676\n",
      "Epoch 26/30\n",
      "3/3 [==============================] - 0s 23ms/step - loss: 2.7080 - accuracy: 0.0676\n",
      "Epoch 27/30\n",
      "3/3 [==============================] - 0s 23ms/step - loss: 2.7080 - accuracy: 0.0676\n",
      "Epoch 28/30\n",
      "3/3 [==============================] - 0s 23ms/step - loss: 2.7080 - accuracy: 0.0676\n",
      "Epoch 29/30\n",
      "3/3 [==============================] - 0s 25ms/step - loss: 2.7080 - accuracy: 0.0676\n",
      "Epoch 30/30\n",
      "3/3 [==============================] - 0s 23ms/step - loss: 2.7080 - accuracy: 0.0676\n"
     ]
    }
   ],
   "source": [
    "# Build a simple model\n",
    "inputs = keras.Input(shape=(243, 320))\n",
    "x = layers.Rescaling(1.0 / 255)(inputs)\n",
    "x = layers.Flatten()(x)\n",
    "x = layers.Dense(128, activation=\"relu\")(x)\n",
    "x = layers.Dense(128, activation=\"relu\")(x)\n",
    "outputs = layers.Dense(15, activation=\"softmax\")(x)\n",
    "model = keras.Model(inputs, outputs)\n",
    "model.summary()\n",
    "\n",
    "# Compile the model\n",
    "model.compile(optimizer=\"sgd\", loss=\"sparse_categorical_crossentropy\", metrics=[\"accuracy\"])\n",
    "\n",
    "# Train the model for 1 epoch from Numpy data\n",
    "batch_size = 64\n",
    "print(\"Fit on NumPy data\")\n",
    "history = model.fit(X_train, y_train, batch_size=batch_size, epochs=30)\n",
    "\n"
   ],
   "metadata": {
    "collapsed": false,
    "pycharm": {
     "name": "#%%\n"
    }
   }
  },
  {
   "cell_type": "code",
   "execution_count": 7,
   "outputs": [],
   "source": [
    "# Train the model for 1 epoch using a dataset\n",
    "dataset = tf.data.Dataset.from_tensor_slices((X_train, y_train)).batch(batch_size)"
   ],
   "metadata": {
    "collapsed": false,
    "pycharm": {
     "name": "#%%\n"
    }
   }
  },
  {
   "cell_type": "code",
   "execution_count": 8,
   "outputs": [
    {
     "data": {
      "text/plain": "<Figure size 432x288 with 1 Axes>",
      "image/png": "[encoded data removed]"
     },
     "metadata": {
      "needs_background": "light"
     },
     "output_type": "display_data"
    }
   ],
   "source": [
    "plt.plot(history.history['loss'])\n",
    "plt.title('model loss')\n",
    "plt.ylabel('loss')\n",
    "plt.xlabel('epoch')\n",
    "plt.legend(['train', 'test'], loc='upper left')\n",
    "plt.show()"
   ],
   "metadata": {
    "collapsed": false,
    "pycharm": {
     "name": "#%%\n"
    }
   }
  },
  {
   "cell_type": "code",
   "execution_count": null,
   "outputs": [],
   "source": [],
   "metadata": {
    "collapsed": false,
    "pycharm": {
     "name": "#%%\n"
    }
   }
  }
 ],
 "metadata": {
  "kernelspec": {
   "display_name": "Python 3",
   "language": "python",
   "name": "python3"
  },
  "language_info": {
   "codemirror_mode": {
    "name": "ipython",
    "version": 2
   },
   "file_extension": ".py",
   "mimetype": "text/x-python",
   "name": "python",
   "nbconvert_exporter": "python",
   "pygments_lexer": "ipython2",
   "version": "2.7.6"
  }
 },
 "nbformat": 4,
 "nbformat_minor": 0
}