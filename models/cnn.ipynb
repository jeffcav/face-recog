{
 "cells": [
  {
   "cell_type": "code",
   "execution_count": 3,
   "metadata": {
    "pycharm": {
     "name": "#%%\n"
    }
   },
   "outputs": [],
   "source": [
    "\n",
    "from sklearn.model_selection import train_test_split\n",
    "import tensorflow as tf\n",
    "import src.python.yalefaces as yalefaces\n",
    "import matplotlib.pyplot as plt"
   ]
  },
  {
   "cell_type": "code",
   "execution_count": 4,
   "metadata": {
    "pycharm": {
     "name": "#%%\n"
    }
   },
   "outputs": [],
   "source": [
    "X, y = yalefaces.load(\"../datasets/yalefaces\", flatten=False)\n",
    "X_train, X_test, y_train, y_test = train_test_split(X, y, test_size=0.1, random_state=24, stratify=y)"
   ]
  },
  {
   "cell_type": "code",
   "execution_count": 5,
   "metadata": {
    "pycharm": {
     "name": "#%%\n"
    }
   },
   "outputs": [],
   "source": [
    "model = tf.keras.Sequential()\n",
    "model.add(tf.keras.layers.Conv2D(64, 12, activation=\"relu\", padding=\"same\", input_shape=[243, 320, 1]))\n",
    "model.add(tf.keras.layers.MaxPooling2D(2))\n",
    "model.add(tf.keras.layers.Conv2D(128, 3, activation=\"relu\", padding=\"same\"))\n",
    "model.add(tf.keras.layers.Conv2D(128, 3, activation=\"relu\", padding=\"same\"))\n",
    "model.add(tf.keras.layers.MaxPooling2D(2))\n",
    "model.add(tf.keras.layers.Conv2D(256, 3, activation=\"relu\", padding=\"same\"))\n",
    "model.add(tf.keras.layers.Conv2D(256, 3, activation=\"relu\", padding=\"same\"))\n",
    "model.add(tf.keras.layers.MaxPooling2D(2))\n",
    "model.add(tf.keras.layers.Flatten())\n",
    "model.add(tf.keras.layers.Dense(128, activation='relu'))\n",
    "model.add(tf.keras.layers.Dropout(0.5))\n",
    "model.add(tf.keras.layers.Dense(64, activation='relu'))\n",
    "model.add(tf.keras.layers.Dropout(0.5))\n",
    "model.add(tf.keras.layers.Dense(15, activation=\"softmax\"))\n",
    "# x = layers.Conv2D(64,7, activation='relu', padding='same', input_shape=[243,320,1])\n",
    "# x = layers.Dense(128, activation=\"relu\")(x)\n",
    "# x = layers.Dense(128, activation=\"relu\")(x)\n",
    "# outputs = layers.Dense(15, activation=\"softmax\")(x)\n",
    "# model = keras.Model(inputs, outputs)\n",
    "# model.summary()\n",
    "#\n",
    "# # Compile the model\n",
    "model.compile(optimizer=\"adam\", loss=\"sparse_categorical_crossentropy\", metrics=[\"accuracy\"])"
   ]
  },
  {
   "cell_type": "code",
   "execution_count": 6,
   "outputs": [
    {
     "name": "stdout",
     "output_type": "stream",
     "text": [
      "Epoch 1/30\n",
      "5/5 [==============================] - 32s 6s/step - loss: 115.6350 - accuracy: 0.0541 - val_loss: 2.7031 - val_accuracy: 0.1176\n",
      "Epoch 2/30\n",
      "5/5 [==============================] - 33s 7s/step - loss: 2.7002 - accuracy: 0.0878 - val_loss: 2.6868 - val_accuracy: 0.1176\n",
      "Epoch 3/30\n",
      "5/5 [==============================] - 33s 7s/step - loss: 2.7144 - accuracy: 0.0878 - val_loss: 2.6778 - val_accuracy: 0.2941\n",
      "Epoch 4/30\n",
      "5/5 [==============================] - 35s 7s/step - loss: 2.6289 - accuracy: 0.2432 - val_loss: 2.6040 - val_accuracy: 0.2941\n",
      "Epoch 5/30\n",
      "5/5 [==============================] - 36s 7s/step - loss: 2.5022 - accuracy: 0.1959 - val_loss: 2.3812 - val_accuracy: 0.5882\n",
      "Epoch 6/30\n",
      "5/5 [==============================] - 36s 7s/step - loss: 2.3894 - accuracy: 0.2095 - val_loss: 1.7275 - val_accuracy: 0.5882\n",
      "Epoch 7/30\n",
      "5/5 [==============================] - 36s 7s/step - loss: 2.1729 - accuracy: 0.2973 - val_loss: 1.8571 - val_accuracy: 0.6471\n",
      "Epoch 8/30\n",
      "5/5 [==============================] - 36s 7s/step - loss: 2.1565 - accuracy: 0.3243 - val_loss: 1.3135 - val_accuracy: 0.7059\n",
      "Epoch 9/30\n",
      "5/5 [==============================] - 36s 7s/step - loss: 1.8640 - accuracy: 0.4527 - val_loss: 1.6282 - val_accuracy: 0.7059\n",
      "Epoch 10/30\n",
      "5/5 [==============================] - 35s 7s/step - loss: 1.8185 - accuracy: 0.4595 - val_loss: 1.1156 - val_accuracy: 0.6471\n",
      "Epoch 11/30\n",
      "5/5 [==============================] - 36s 7s/step - loss: 1.8930 - accuracy: 0.4054 - val_loss: 1.5715 - val_accuracy: 0.7647\n",
      "Epoch 12/30\n",
      "5/5 [==============================] - 36s 7s/step - loss: 1.7273 - accuracy: 0.4595 - val_loss: 0.9388 - val_accuracy: 0.8235\n",
      "Epoch 13/30\n",
      "5/5 [==============================] - 36s 7s/step - loss: 1.5517 - accuracy: 0.4932 - val_loss: 0.8105 - val_accuracy: 0.8235\n",
      "Epoch 14/30\n",
      "5/5 [==============================] - 36s 7s/step - loss: 1.5031 - accuracy: 0.5270 - val_loss: 0.7647 - val_accuracy: 0.9412\n",
      "Epoch 15/30\n",
      "5/5 [==============================] - 36s 7s/step - loss: 1.4079 - accuracy: 0.5743 - val_loss: 0.6747 - val_accuracy: 0.9412\n",
      "Epoch 16/30\n",
      "5/5 [==============================] - 36s 7s/step - loss: 1.4230 - accuracy: 0.5473 - val_loss: 0.5802 - val_accuracy: 0.9412\n",
      "Epoch 17/30\n",
      "5/5 [==============================] - 36s 7s/step - loss: 1.2152 - accuracy: 0.5405 - val_loss: 0.3482 - val_accuracy: 0.9412\n",
      "Epoch 18/30\n",
      "5/5 [==============================] - 36s 7s/step - loss: 1.1939 - accuracy: 0.6149 - val_loss: 0.4884 - val_accuracy: 0.9412\n",
      "Epoch 19/30\n",
      "5/5 [==============================] - 37s 7s/step - loss: 1.1950 - accuracy: 0.5878 - val_loss: 0.3736 - val_accuracy: 0.9412\n",
      "Epoch 20/30\n",
      "5/5 [==============================] - 37s 7s/step - loss: 1.0331 - accuracy: 0.6892 - val_loss: 0.2300 - val_accuracy: 0.9412\n",
      "Epoch 21/30\n",
      "5/5 [==============================] - 37s 7s/step - loss: 1.0108 - accuracy: 0.6622 - val_loss: 0.3717 - val_accuracy: 0.9412\n",
      "Epoch 22/30\n",
      "5/5 [==============================] - 37s 7s/step - loss: 1.0216 - accuracy: 0.6824 - val_loss: 0.2776 - val_accuracy: 0.9412\n",
      "Epoch 23/30\n",
      "5/5 [==============================] - 37s 7s/step - loss: 0.7853 - accuracy: 0.7703 - val_loss: 0.2156 - val_accuracy: 0.9412\n",
      "Epoch 24/30\n",
      "5/5 [==============================] - 37s 7s/step - loss: 0.9409 - accuracy: 0.6757 - val_loss: 0.2840 - val_accuracy: 0.9412\n",
      "Epoch 25/30\n",
      "5/5 [==============================] - 37s 7s/step - loss: 0.7190 - accuracy: 0.7770 - val_loss: 0.1547 - val_accuracy: 0.9412\n",
      "Epoch 26/30\n",
      "5/5 [==============================] - 37s 7s/step - loss: 0.7411 - accuracy: 0.7568 - val_loss: 0.2410 - val_accuracy: 0.9412\n",
      "Epoch 27/30\n",
      "5/5 [==============================] - 37s 7s/step - loss: 0.7813 - accuracy: 0.7770 - val_loss: 0.1332 - val_accuracy: 1.0000\n",
      "Epoch 28/30\n",
      "5/5 [==============================] - 36s 7s/step - loss: 0.5462 - accuracy: 0.8514 - val_loss: 0.1536 - val_accuracy: 1.0000\n",
      "Epoch 29/30\n",
      "5/5 [==============================] - 36s 7s/step - loss: 0.6984 - accuracy: 0.7905 - val_loss: 0.1197 - val_accuracy: 1.0000\n",
      "Epoch 30/30\n",
      "5/5 [==============================] - 37s 7s/step - loss: 0.5625 - accuracy: 0.8311 - val_loss: 0.1812 - val_accuracy: 1.0000\n"
     ]
    }
   ],
   "source": [
    "history = model.fit(X_train, y_train, epochs=30,\n",
    "                    validation_data=(X_test, y_test))"
   ],
   "metadata": {
    "collapsed": false,
    "pycharm": {
     "name": "#%%\n"
    }
   }
  },
  {
   "cell_type": "code",
   "execution_count": 7,
   "outputs": [
    {
     "data": {
      "text/plain": "<Figure size 432x288 with 1 Axes>",
      "image/png": "[encoded data removed]"
     },
     "metadata": {
      "needs_background": "light"
     },
     "output_type": "display_data"
    }
   ],
   "source": [
    "plt.plot(history.history['loss'])\n",
    "plt.title('model loss')\n",
    "plt.ylabel('loss')\n",
    "plt.xlabel('epoch')\n",
    "plt.legend(['train', 'test'], loc='upper left')\n",
    "plt.show()"
   ],
   "metadata": {
    "collapsed": false,
    "pycharm": {
     "name": "#%%\n"
    }
   }
  },
  {
   "cell_type": "code",
   "execution_count": 8,
   "outputs": [
    {
     "name": "stdout",
     "output_type": "stream",
     "text": [
      "1/1 - 1s - loss: 0.1812 - accuracy: 1.0000 - 721ms/epoch - 721ms/step\n"
     ]
    },
    {
     "data": {
      "text/plain": "<Figure size 432x288 with 1 Axes>",
      "image/png": "[encoded data removed]"
     },
     "metadata": {
      "needs_background": "light"
     },
     "output_type": "display_data"
    }
   ],
   "source": [
    "plt.plot(history.history['accuracy'], label='accuracy')\n",
    "plt.plot(history.history['val_accuracy'], label = 'val_accuracy')\n",
    "plt.xlabel('Epoch')\n",
    "plt.ylabel('Accuracy')\n",
    "plt.ylim([0.5, 1])\n",
    "plt.legend(loc='lower right')\n",
    "\n",
    "test_loss, test_acc = model.evaluate(X_test,  y_test, verbose=2)"
   ],
   "metadata": {
    "collapsed": false,
    "pycharm": {
     "name": "#%%\n"
    }
   }
  },
  {
   "cell_type": "code",
   "execution_count": 9,
   "outputs": [
    {
     "name": "stderr",
     "output_type": "stream",
     "text": [
      "WARNING:absl:Found untraced functions such as _jit_compiled_convolution_op, _jit_compiled_convolution_op, _jit_compiled_convolution_op, _jit_compiled_convolution_op, _jit_compiled_convolution_op while saving (showing 5 of 5). These functions will not be directly callable after loading.\n"
     ]
    },
    {
     "name": "stdout",
     "output_type": "stream",
     "text": [
      "INFO:tensorflow:Assets written to: ./cnn\\assets\n"
     ]
    },
    {
     "name": "stderr",
     "output_type": "stream",
     "text": [
      "INFO:tensorflow:Assets written to: ./cnn\\assets\n"
     ]
    }
   ],
   "source": [
    "model.save('./cnn')"
   ],
   "metadata": {
    "collapsed": false,
    "pycharm": {
     "name": "#%%\n"
    }
   }
  },
  {
   "cell_type": "code",
   "execution_count": null,
   "outputs": [],
   "source": [],
   "metadata": {
    "collapsed": false,
    "pycharm": {
     "name": "#%%\n"
    }
   }
  }
 ],
 "metadata": {
  "kernelspec": {
   "display_name": "Python 3 (ipykernel)",
   "language": "python",
   "name": "python3"
  },
  "language_info": {
   "codemirror_mode": {
    "name": "ipython",
    "version": 3
   },
   "file_extension": ".py",
   "mimetype": "text/x-python",
   "name": "python",
   "nbconvert_exporter": "python",
   "pygments_lexer": "ipython3",
   "version": "3.9.10"
  }
 },
 "nbformat": 4,
 "nbformat_minor": 1
}